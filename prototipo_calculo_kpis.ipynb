{
 "cells": [
  {
   "cell_type": "code",
   "execution_count": 62,
   "metadata": {},
   "outputs": [],
   "source": [
    "# Imports dos módulos + caminho da pasta dos arquivos\n",
    "import os\n",
    "import sys\n",
    "import pandas as pd\n",
    "sys.path.append('../src')  # \n",
    "from src.extract_data import get_data_from_api\n",
    "from src.load_data import get_data_from_files\n",
    "from config.config import API_URL, CSV_FILE_PATH1, XLS_FILE_PATH2"
   ]
  },
  {
   "cell_type": "code",
   "execution_count": 103,
   "metadata": {},
   "outputs": [
    {
     "name": "stdout",
     "output_type": "stream",
     "text": [
      "status: 200\n"
     ]
    }
   ],
   "source": [
    "# chamando a funçao que extrai os dados da api e guarda num df\n",
    "api_url = API_URL\n",
    "df_api = get_data_from_api(api_url)\n",
    "# Criando uma copia dos dados da api\n",
    "df_api_copy = df_api.copy()\n",
    "\n",
    "# chamando a função que lê os arquivos csv e xls\n",
    "df_csv, df_xls = get_data_from_files()\n",
    "# Criando uma copia dos arquivos csv e xls\n",
    "df_csv_copy = df_csv.copy()\n",
    "\n",
    "df_xls_copy = df_xls.copy()"
   ]
  },
  {
   "cell_type": "code",
   "execution_count": 104,
   "metadata": {},
   "outputs": [],
   "source": [
    "# Tratando os dados xls\n",
    "# definindo o numero de linhas para dropar\n",
    "n = 2\n",
    "# Pegando a partir da 4 linha e fazedno o reset do index\n",
    "df_xls_copy = df_xls_copy.iloc[n:].reset_index(drop=True)\n",
    "# Definindo o nome da primeira linha como header\n",
    "df_xls_copy.columns = df_xls_copy.iloc[0]\n",
    "# Removendo a linha que era header e fazendo o reset do index\n",
    "df_xls_copy = df_xls_copy[1:].reset_index(drop=True)\n",
    "# selcionando apenas as duas primeiras colunas do df\n",
    "df_xls_copy = df_xls_copy.iloc[:, :2]"
   ]
  },
  {
   "cell_type": "code",
   "execution_count": 105,
   "metadata": {},
   "outputs": [],
   "source": [
    "df_xls_copy['Data'] = pd.to_datetime(df_xls_copy['Data'], format='%m/%Y', errors='coerce')\n",
    "\n",
    "date_range = pd.date_range(start=df_xls_copy['Data'].min(), end=df_xls_copy['Data'].max(), freq='MS')\n",
    "date_df = pd.DataFrame(date_range, columns=['Data'])\n",
    "merged_df = date_df.merge(df_xls_copy, on='Data', how='left')\n",
    "merged_df['Data'] = merged_df['Data'].dt.strftime(\"%m/%Y\")"
   ]
  },
  {
   "cell_type": "code",
   "execution_count": null,
   "metadata": {},
   "outputs": [],
   "source": [
    "# Mudando o tipo de dados para float64\n",
    "merged_df['À vista R$'] = merged_df['À vista R$'].astype('float64')\n",
    "\n",
    "# Complete o campo de valor que não estejam preenchidos com o valor do mês anterior;\n",
    "merged_df.set_index('Data',inplace=True)\n",
    "merged_df['À vista R$'] = merged_df['À vista R$'].ffill().infer_objects(copy=False)\n",
    "merged_df['À vista R$'] = merged_df['À vista R$'].round(2)"
   ]
  },
  {
   "cell_type": "code",
   "execution_count": 108,
   "metadata": {},
   "outputs": [
    {
     "data": {
      "text/plain": [
       "(21, 1)"
      ]
     },
     "execution_count": 108,
     "metadata": {},
     "output_type": "execute_result"
    }
   ],
   "source": [
    "merged_df.shape"
   ]
  },
  {
   "cell_type": "code",
   "execution_count": null,
   "metadata": {},
   "outputs": [],
   "source": []
  },
  {
   "cell_type": "code",
   "execution_count": null,
   "metadata": {},
   "outputs": [],
   "source": []
  },
  {
   "cell_type": "code",
   "execution_count": null,
   "metadata": {},
   "outputs": [],
   "source": []
  },
  {
   "cell_type": "code",
   "execution_count": null,
   "metadata": {},
   "outputs": [],
   "source": []
  }
 ],
 "metadata": {
  "kernelspec": {
   "display_name": ".venv",
   "language": "python",
   "name": "python3"
  },
  "language_info": {
   "codemirror_mode": {
    "name": "ipython",
    "version": 3
   },
   "file_extension": ".py",
   "mimetype": "text/x-python",
   "name": "python",
   "nbconvert_exporter": "python",
   "pygments_lexer": "ipython3",
   "version": "3.12.1"
  }
 },
 "nbformat": 4,
 "nbformat_minor": 2
}
