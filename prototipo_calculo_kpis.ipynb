{
 "cells": [
  {
   "cell_type": "code",
   "execution_count": 1,
   "metadata": {},
   "outputs": [],
   "source": [
    "# Imports dos módulos + caminho da pasta dos arquivos\n",
    "import os\n",
    "import sys\n",
    "sys.path.append('../src')  # \n",
    "from src.extract_data import get_data_from_api\n",
    "from src.load_data import get_data_from_files\n",
    "from config.config import API_URL, CSV_FILE_PATH1, XLS_FILE_PATH2"
   ]
  },
  {
   "cell_type": "code",
   "execution_count": 9,
   "metadata": {},
   "outputs": [
    {
     "name": "stdout",
     "output_type": "stream",
     "text": [
      "status: 200\n"
     ]
    }
   ],
   "source": [
    "# chamando a funçao que extrai os dados da api e guarda num df\n",
    "api_url = API_URL\n",
    "df_api = get_data_from_api(api_url)\n",
    "# Criando uma copia dos dados da api\n",
    "df_api_copy = df_api.copy()\n",
    "\n",
    "# chamando a função que lê os arquivos csv e xls\n",
    "df_csv, df_xls = get_data_from_files()\n",
    "# Criando uma copia dos arquivos csv e xls\n",
    "df_csv_copy = df_csv.copy()\n",
    "\n",
    "df_xls_copy = df_xls.copy()"
   ]
  },
  {
   "cell_type": "code",
   "execution_count": null,
   "metadata": {},
   "outputs": [],
   "source": []
  },
  {
   "cell_type": "code",
   "execution_count": null,
   "metadata": {},
   "outputs": [],
   "source": []
  }
 ],
 "metadata": {
  "kernelspec": {
   "display_name": ".venv",
   "language": "python",
   "name": "python3"
  },
  "language_info": {
   "codemirror_mode": {
    "name": "ipython",
    "version": 3
   },
   "file_extension": ".py",
   "mimetype": "text/x-python",
   "name": "python",
   "nbconvert_exporter": "python",
   "pygments_lexer": "ipython3",
   "version": "3.12.1"
  }
 },
 "nbformat": 4,
 "nbformat_minor": 2
}
