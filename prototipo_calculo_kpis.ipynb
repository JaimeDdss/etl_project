{
 "cells": [
  {
   "cell_type": "code",
   "execution_count": 41,
   "metadata": {},
   "outputs": [],
   "source": [
    "# Imports dos módulos + caminho da pasta dos arquivos\n",
    "import os\n",
    "import sys\n",
    "import pandas as pd\n",
    "from datetime import datetime\n",
    "sys.path.append('../src')  # \n",
    "from src.extract_data import get_data_from_api\n",
    "from src.load_data import get_data_from_files\n",
    "from config.config import API_URL, CSV_FILE_PATH1, XLS_FILE_PATH2"
   ]
  },
  {
   "cell_type": "code",
   "execution_count": 3,
   "metadata": {},
   "outputs": [
    {
     "name": "stdout",
     "output_type": "stream",
     "text": [
      "status: 200\n"
     ]
    }
   ],
   "source": [
    "# chamando a funçao que extrai os dados da api e guarda num df\n",
    "api_url = API_URL\n",
    "df_api = get_data_from_api(api_url)\n",
    "# Criando uma copia dos dados da api\n",
    "df_api_copy = df_api.copy()\n",
    "\n",
    "# chamando a função que lê os arquivos csv e xls\n",
    "df_csv, df_xls = get_data_from_files()\n",
    "# Criando uma copia dos arquivos csv e xls\n",
    "df_csv_copy = df_csv.copy()\n",
    "\n",
    "df_xls_copy = df_xls.copy()"
   ]
  },
  {
   "cell_type": "code",
   "execution_count": 4,
   "metadata": {},
   "outputs": [],
   "source": [
    "# Tratando os dados xls\n",
    "# definindo o numero de linhas para dropar\n",
    "n = 2\n",
    "# Pegando a partir da 4 linha e fazedno o reset do index\n",
    "df_xls_copy = df_xls_copy.iloc[n:].reset_index(drop=True)\n",
    "# Definindo o nome da primeira linha como header\n",
    "df_xls_copy.columns = df_xls_copy.iloc[0]\n",
    "# Removendo a linha que era header e fazendo o reset do index\n",
    "df_xls_copy = df_xls_copy[1:].reset_index(drop=True)\n",
    "# selcionando apenas as duas primeiras colunas do df\n",
    "df_xls_copy = df_xls_copy.iloc[:, :2]"
   ]
  },
  {
   "cell_type": "code",
   "execution_count": 5,
   "metadata": {},
   "outputs": [],
   "source": [
    "# mudando o tipo de dado da coluna de data\n",
    "df_xls_copy['Data'] = pd.to_datetime(df_xls_copy['Data'], format='%m/%Y', errors='coerce') \n",
    "# criando um df auxiliar para preencher a data com a sequencia crono\n",
    "date_range = pd.date_range(start=df_xls_copy['Data'].min(), end=df_xls_copy['Data'].max(), freq='MS')\n",
    "date_df = pd.DataFrame(date_range, columns=['Data'])\n",
    "# fazendo o merge do df auxiliar com o principal\n",
    "merged_df = date_df.merge(df_xls_copy, on='Data', how='left')\n",
    "merged_df['Data'] = merged_df['Data'].dt.strftime(\"%m/%Y\") "
   ]
  },
  {
   "cell_type": "code",
   "execution_count": 6,
   "metadata": {},
   "outputs": [],
   "source": [
    "# Mudando o tipo de dados para float64 \n",
    "merged_df['À vista R$'] = merged_df['À vista R$'].astype('float64')\n",
    "\n",
    "# Complete o campo de valor que não estejam preenchidos com o valor do mês anterior;\n",
    "merged_df.set_index('Data',inplace=True)\n",
    "merged_df['À vista R$'] = merged_df['À vista R$'].ffill().infer_objects(copy=False)\n",
    "merged_df['À vista R$'] = merged_df['À vista R$'].round(2)\n",
    "merged_df = merged_df.reset_index()\n",
    "\n",
    "# forçando a transformação para data \n",
    "merged_df['Data'] = pd.to_datetime(merged_df['Data'], format='%m/%Y', errors='coerce' ) + pd.offsets.MonthBegin(1)"
   ]
  },
  {
   "cell_type": "code",
   "execution_count": 7,
   "metadata": {},
   "outputs": [],
   "source": [
    "# renomeando as colunas do df_api_copy\n",
    "df_api_copy = df_api_copy.rename(columns={'data': 'Data','valor': 'IPCA'})\n",
    "\n",
    "# mudando os tipos de dados\n",
    "df_api_copy['Data'] = pd.to_datetime(df_api_copy['Data'], format='%d/%m/%Y', errors='coerce').dt.strftime('%Y-%m-%d')\n",
    "df_api_copy['IPCA'] = df_api_copy['IPCA'].astype('float64')"
   ]
  },
  {
   "cell_type": "code",
   "execution_count": 8,
   "metadata": {},
   "outputs": [],
   "source": [
    "# garantindo que as colunas vão estar em formato de data\n",
    "merged_df['Data'] = pd.to_datetime(merged_df['Data'])\n",
    "df_api_copy['Data'] = pd.to_datetime(df_api_copy['Data'])\n",
    "\n",
    "# merge das bases de ipca com indicador boi gordo\n",
    "df_ipca = pd.merge(merged_df, df_api_copy, how='right', on= 'Data')"
   ]
  },
  {
   "cell_type": "code",
   "execution_count": 9,
   "metadata": {},
   "outputs": [],
   "source": [
    "# calculando o IPCA acumulado\n",
    "df_ipca['IPCA_acum'] = df_ipca['IPCA'].cumsum()"
   ]
  },
  {
   "cell_type": "code",
   "execution_count": 10,
   "metadata": {},
   "outputs": [],
   "source": [
    "# Forçando o formato de data\n",
    "df_ipca['Data'] = pd.to_datetime(df_ipca['Data'], errors='coerce')\n",
    "\n",
    "# definindo os valores de ipca\n",
    "data_recente = df_ipca['Data'].max()\n",
    "ipca_acum_dez_2022 = df_ipca.loc[df_ipca['Data'] == '2022-12-01', 'IPCA'].values[0]\n",
    "ipca_acum_atual = df_ipca.loc[df_ipca['Data'] == data_recente, 'IPCA'].values[0]\n",
    "\n",
    "# calculo do valor real \n",
    "df_ipca['Real'] = df_ipca['À vista R$'] * (1 + (ipca_acum_dez_2022 - ipca_acum_atual) / 100)\n",
    "df_ipca['Real'] = df_ipca['Real'].round(2)"
   ]
  },
  {
   "cell_type": "code",
   "execution_count": null,
   "metadata": {},
   "outputs": [],
   "source": [
    "# mudando para data o tipo da coluna dt_cmdty\n",
    "df_csv_copy['dt_cmdty'] = pd.to_datetime(df_csv_copy['dt_cmdty'])"
   ]
  },
  {
   "cell_type": "code",
   "execution_count": null,
   "metadata": {},
   "outputs": [],
   "source": [
    "# Renomeando a coluna data\n",
    "df_ipca = df_ipca.rename(columns={'Data': 'dt_cmdty'})\n",
    "\n",
    "# renomeando a coluna Real e calculando a var percentual\n",
    "df_ipca[\"cmdty_var_mes_perc\"] = df_ipca[\"Real\"].pct_change()\n",
    "df_ipca[\"cmdty_vl_rs_um\"] = df_ipca[\"Real\"]"
   ]
  },
  {
   "cell_type": "code",
   "execution_count": null,
   "metadata": {},
   "outputs": [],
   "source": [
    "# Dropna nas colunas selecionadas \n",
    "df_ipca = df_ipca[[\"dt_cmdty\", \"cmdty_vl_rs_um\", \"cmdty_var_mes_perc\"]].dropna()\n",
    "\n",
    "# Fazendo o upsert\n",
    "df_final = pd.concat([df_csv_copy.set_index(\"dt_cmdty\"), df_ipca.set_index(\"dt_cmdty\")])\n",
    "df_final = df_final[~df_final.index.duplicated(keep='last')].reset_index()"
   ]
  },
  {
   "cell_type": "code",
   "execution_count": null,
   "metadata": {},
   "outputs": [],
   "source": [
    "# valores padrão\n",
    "valor1 = 'Boi_Gordo'\n",
    "valor2 = 'Indicador do Boi Gordo CEPEA/B3'\n",
    "valor3 = '15 Kg/carcaça'\n",
    "\n",
    "# replicando os valores para o restante das linhas\n",
    "df_final['nome_cmdty'] = df_final['nome_cmdty'].fillna(valor1)\n",
    "df_final['tipo_cmdty'] = df_final['tipo_cmdty'].fillna(valor2)\n",
    "df_final['cmdty_um'] = df_final['cmdty_um'].fillna(valor3)\n",
    "\n",
    "# round limitado com duas casas decimais da coluna cmdty_var_mes_perc\n",
    "df_final['cmdty_var_mes_perc'] = df_final['cmdty_var_mes_perc'].round(2)\n",
    "\n",
    "## preenchendo a dt_etl com a data de hoje\n",
    "data_atual = datetime.today().strftime('%Y-%m-%d')\n",
    "df_final['dt_etl'] = data_atual"
   ]
  },
  {
   "cell_type": "code",
   "execution_count": null,
   "metadata": {},
   "outputs": [],
   "source": [
    "\n",
    "#df_final.to_parquet('upsert_boi_gordo_Vfinal.parquet', engine='pyarrow', compression='snappy', index=False)\n"
   ]
  },
  {
   "cell_type": "code",
   "execution_count": null,
   "metadata": {},
   "outputs": [],
   "source": []
  },
  {
   "cell_type": "code",
   "execution_count": null,
   "metadata": {},
   "outputs": [],
   "source": []
  }
 ],
 "metadata": {
  "kernelspec": {
   "display_name": ".venv",
   "language": "python",
   "name": "python3"
  },
  "language_info": {
   "codemirror_mode": {
    "name": "ipython",
    "version": 3
   },
   "file_extension": ".py",
   "mimetype": "text/x-python",
   "name": "python",
   "nbconvert_exporter": "python",
   "pygments_lexer": "ipython3",
   "version": "3.12.1"
  }
 },
 "nbformat": 4,
 "nbformat_minor": 2
}
