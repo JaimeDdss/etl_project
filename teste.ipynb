{
 "cells": [
  {
   "cell_type": "code",
   "execution_count": 8,
   "metadata": {},
   "outputs": [],
   "source": [
    "from src.extract_data import get_data_from_api\n",
    "from src.load_data import get_data_from_files\n",
    "from config.config import API_URL, CSV_FILE_PATH1, XLS_FILE_PATH2"
   ]
  },
  {
   "cell_type": "code",
   "execution_count": 13,
   "metadata": {},
   "outputs": [],
   "source": [
    "import os\n",
    "import sys\n",
    "sys.path.append('../src')  # Altere para o caminho correto\n",
    "from src.load_data import get_data_from_files  # Ajuste o nome conforme seu arquivo\n"
   ]
  },
  {
   "cell_type": "code",
   "execution_count": 4,
   "metadata": {},
   "outputs": [
    {
     "name": "stdout",
     "output_type": "stream",
     "text": [
      "status: 200\n"
     ]
    },
    {
     "data": {
      "text/html": [
       "<div>\n",
       "<style scoped>\n",
       "    .dataframe tbody tr th:only-of-type {\n",
       "        vertical-align: middle;\n",
       "    }\n",
       "\n",
       "    .dataframe tbody tr th {\n",
       "        vertical-align: top;\n",
       "    }\n",
       "\n",
       "    .dataframe thead th {\n",
       "        text-align: right;\n",
       "    }\n",
       "</style>\n",
       "<table border=\"1\" class=\"dataframe\">\n",
       "  <thead>\n",
       "    <tr style=\"text-align: right;\">\n",
       "      <th></th>\n",
       "      <th>data</th>\n",
       "      <th>valor</th>\n",
       "    </tr>\n",
       "  </thead>\n",
       "  <tbody>\n",
       "    <tr>\n",
       "      <th>0</th>\n",
       "      <td>01/02/1992</td>\n",
       "      <td>22.17</td>\n",
       "    </tr>\n",
       "    <tr>\n",
       "      <th>1</th>\n",
       "      <td>01/03/1992</td>\n",
       "      <td>20.74</td>\n",
       "    </tr>\n",
       "    <tr>\n",
       "      <th>2</th>\n",
       "      <td>01/04/1992</td>\n",
       "      <td>20.14</td>\n",
       "    </tr>\n",
       "    <tr>\n",
       "      <th>3</th>\n",
       "      <td>01/05/1992</td>\n",
       "      <td>26.93</td>\n",
       "    </tr>\n",
       "    <tr>\n",
       "      <th>4</th>\n",
       "      <td>01/06/1992</td>\n",
       "      <td>19.07</td>\n",
       "    </tr>\n",
       "  </tbody>\n",
       "</table>\n",
       "</div>"
      ],
      "text/plain": [
       "         data  valor\n",
       "0  01/02/1992  22.17\n",
       "1  01/03/1992  20.74\n",
       "2  01/04/1992  20.14\n",
       "3  01/05/1992  26.93\n",
       "4  01/06/1992  19.07"
      ]
     },
     "execution_count": 4,
     "metadata": {},
     "output_type": "execute_result"
    }
   ],
   "source": [
    "api_url = API_URL\n",
    "df_api = get_data_from_api(api_url)\n",
    "df_api.head()"
   ]
  },
  {
   "cell_type": "code",
   "execution_count": 23,
   "metadata": {},
   "outputs": [
    {
     "name": "stdout",
     "output_type": "stream",
     "text": [
      "dados csv: \n",
      "     dt_cmdty nome_cmdty                       tipo_cmdty       cmdty_um  \\\n",
      "0  2021-11-01  Boi_Gordo  Indicador do Boi Gordo CEPEA/B3  15 Kg/carcaça   \n",
      "1  2021-12-01  Boi_Gordo  Indicador do Boi Gordo CEPEA/B3  15 Kg/carcaça   \n",
      "2  2022-02-01  Boi_Gordo  Indicador do Boi Gordo CEPEA/B3  15 Kg/carcaça   \n",
      "3  2022-04-01  Boi_Gordo  Indicador do Boi Gordo CEPEA/B3  15 Kg/carcaça   \n",
      "4  2022-06-01  Boi_Gordo  Indicador do Boi Gordo CEPEA/B3  15 Kg/carcaça   \n",
      "\n",
      "   cmdty_vl_rs_um  cmdty_var_mes_perc      dt_etl  \n",
      "0          263.95            2.664333  2021-12-14  \n",
      "1          321.60            0.218413  2021-12-14  \n",
      "2          338.46            0.052425  2022-02-02  \n",
      "3          341.60            0.009277  2022-04-02  \n",
      "4          314.60           -0.079040  2022-06-02  \n",
      "dados xls: \n",
      "  INDICADOR DO BOI GORDO CEPEA/B3  Unnamed: 1  Unnamed: 2  Unnamed: 3\n",
      "0                             NaN         NaN         NaN         NaN\n",
      "1                    Fonte: Cepea         NaN         NaN         NaN\n",
      "2                            Data  À vista R$         NaN         NaN\n",
      "3                         01/2023  285.972727         NaN   258.51491\n",
      "4                         02/2023  289.719444         NaN         NaN\n"
     ]
    }
   ],
   "source": [
    "df_csv, df_xls = get_data_from_files()\n"
   ]
  },
  {
   "cell_type": "code",
   "execution_count": 24,
   "metadata": {},
   "outputs": [
    {
     "data": {
      "text/plain": [
       "['dt_cmdty',\n",
       " 'nome_cmdty',\n",
       " 'tipo_cmdty',\n",
       " 'cmdty_um',\n",
       " 'cmdty_vl_rs_um',\n",
       " 'cmdty_var_mes_perc',\n",
       " 'dt_etl']"
      ]
     },
     "execution_count": 24,
     "metadata": {},
     "output_type": "execute_result"
    }
   ],
   "source": [
    "df_csv.columns.to_list()\n"
   ]
  },
  {
   "cell_type": "code",
   "execution_count": 25,
   "metadata": {},
   "outputs": [
    {
     "data": {
      "text/plain": [
       "['INDICADOR DO BOI GORDO CEPEA/B3', 'Unnamed: 1', 'Unnamed: 2', 'Unnamed: 3']"
      ]
     },
     "execution_count": 25,
     "metadata": {},
     "output_type": "execute_result"
    }
   ],
   "source": [
    "df_xls.columns.to_list()"
   ]
  },
  {
   "cell_type": "code",
   "execution_count": null,
   "metadata": {},
   "outputs": [],
   "source": []
  }
 ],
 "metadata": {
  "kernelspec": {
   "display_name": ".venv",
   "language": "python",
   "name": "python3"
  },
  "language_info": {
   "codemirror_mode": {
    "name": "ipython",
    "version": 3
   },
   "file_extension": ".py",
   "mimetype": "text/x-python",
   "name": "python",
   "nbconvert_exporter": "python",
   "pygments_lexer": "ipython3",
   "version": "3.12.1"
  }
 },
 "nbformat": 4,
 "nbformat_minor": 2
}
